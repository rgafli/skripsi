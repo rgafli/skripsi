{
 "cells": [
  {
   "cell_type": "markdown",
   "id": "8c32073a",
   "metadata": {},
   "source": [
    "# 🧠 Superapp Sentiment Model Trainer\n",
    "This notebook will train Naive Bayes and SVM models on the Google Play Store user review dataset."
   ]
  },
  {
   "cell_type": "code",
   "execution_count": null,
   "id": "a612fd6f",
   "metadata": {},
   "outputs": [],
   "source": [
    "\n",
    "import pandas as pd\n",
    "import joblib\n",
    "from sklearn.model_selection import train_test_split\n",
    "from sklearn.feature_extraction.text import TfidfVectorizer\n",
    "from sklearn.naive_bayes import MultinomialNB\n",
    "from sklearn.svm import SVC\n",
    "from sklearn.preprocessing import LabelEncoder\n",
    "\n",
    "# Upload the dataset manually if running in Colab\n",
    "from google.colab import files\n",
    "uploaded = files.upload()\n",
    "df = pd.read_csv(next(iter(uploaded)))\n",
    "\n",
    "# Drop NA values in relevant columns\n",
    "df.dropna(subset=[\"Translated_Review\", \"Sentiment\"], inplace=True)\n",
    "\n",
    "# Encode labels\n",
    "label_encoder = LabelEncoder()\n",
    "df[\"label\"] = label_encoder.fit_transform(df[\"Sentiment\"])\n",
    "\n",
    "# Split dataset\n",
    "X_train, X_test, y_train, y_test = train_test_split(\n",
    "    df[\"Translated_Review\"], df[\"label\"], test_size=0.2, random_state=42\n",
    ")\n",
    "\n",
    "# Vectorize with TF-IDF\n",
    "vectorizer = TfidfVectorizer(max_features=5000)\n",
    "X_train_vec = vectorizer.fit_transform(X_train)\n",
    "\n",
    "# Train Naive Bayes model\n",
    "nb_model = MultinomialNB()\n",
    "nb_model.fit(X_train_vec, y_train)\n",
    "\n",
    "# Train SVM model\n",
    "svm_model = SVC(kernel='linear')\n",
    "svm_model.fit(X_train_vec, y_train)\n",
    "\n",
    "# Save models and vectorizer\n",
    "joblib.dump(nb_model, \"naive_bayes_model.pkl\")\n",
    "joblib.dump(svm_model, \"svm_model.pkl\")\n",
    "joblib.dump(vectorizer, \"tfidf_vectorizer.pkl\")\n",
    "print(\"✅ Models saved successfully.\")\n"
   ]
  },
  {
   "cell_type": "markdown",
   "id": "b905ef63",
   "metadata": {},
   "source": [
    "## ⬇️ Download Model Files"
   ]
  },
  {
   "cell_type": "code",
   "execution_count": null,
   "id": "4be71a5c",
   "metadata": {},
   "outputs": [],
   "source": [
    "\n",
    "from google.colab import files\n",
    "files.download(\"naive_bayes_model.pkl\")\n",
    "files.download(\"svm_model.pkl\")\n",
    "files.download(\"tfidf_vectorizer.pkl\")\n"
   ]
  },
  {
   "cell_type": "markdown",
   "id": "a7601b6d",
   "metadata": {},
   "source": [
    "## 🤖 Fine-tune BERT for Sentiment Classification"
   ]
  },
  {
   "cell_type": "code",
   "execution_count": null,
   "id": "8e2cc7a0",
   "metadata": {},
   "outputs": [],
   "source": [
    "\n",
    "!pip install transformers\n",
    "\n",
    "from transformers import BertTokenizer, BertForSequenceClassification, AdamW\n",
    "import torch\n",
    "from torch.utils.data import DataLoader, TensorDataset\n",
    "\n",
    "# Initialize tokenizer and model\n",
    "tokenizer = BertTokenizer.from_pretrained('bert-base-uncased')\n",
    "model = BertForSequenceClassification.from_pretrained('bert-base-uncased', num_labels=3)\n",
    "\n",
    "# Tokenize input\n",
    "def encode_data(texts, tokenizer, max_len=128):\n",
    "    return tokenizer(\n",
    "        texts.tolist(), padding=True, truncation=True, max_length=max_len, return_tensors='pt'\n",
    "    )\n",
    "\n",
    "train_encodings = encode_data(X_train, tokenizer)\n",
    "test_encodings = encode_data(X_test, tokenizer)\n",
    "\n",
    "train_labels = torch.tensor(y_train.tolist())\n",
    "test_labels = torch.tensor(y_test.tolist())\n",
    "\n",
    "train_dataset = TensorDataset(train_encodings['input_ids'], train_encodings['attention_mask'], train_labels)\n",
    "train_loader = DataLoader(train_dataset, batch_size=16, shuffle=True)\n",
    "\n",
    "# Train the model\n",
    "optimizer = AdamW(model.parameters(), lr=1e-5)\n",
    "device = torch.device(\"cuda\" if torch.cuda.is_available() else \"cpu\")\n",
    "model.to(device)\n",
    "\n",
    "model.train()\n",
    "for epoch in range(2):  # Use 2 epochs for Colab runtime\n",
    "    for batch in train_loader:\n",
    "        input_ids, attention_mask, labels = [b.to(device) for b in batch]\n",
    "        outputs = model(input_ids, attention_mask=attention_mask, labels=labels)\n",
    "        loss = outputs.loss\n",
    "        loss.backward()\n",
    "        optimizer.step()\n",
    "        optimizer.zero_grad()\n",
    "\n",
    "# Save BERT model\n",
    "model.save_pretrained(\"bert-finetuned-superapp\")\n",
    "tokenizer.save_pretrained(\"bert-finetuned-superapp\")\n",
    "print(\"✅ BERT model saved to 'bert-finetuned-superapp'\")\n"
   ]
  },
  {
   "cell_type": "markdown",
   "id": "22dd1f86",
   "metadata": {},
   "source": [
    "### 📦 Download BERT Model Folder"
   ]
  },
  {
   "cell_type": "code",
   "execution_count": null,
   "id": "2e391ec0",
   "metadata": {},
   "outputs": [],
   "source": [
    "\n",
    "import shutil\n",
    "shutil.make_archive(\"bert-finetuned-superapp\", 'zip', \"bert-finetuned-superapp\")\n",
    "files.download(\"bert-finetuned-superapp.zip\")\n"
   ]
  }
 ],
 "metadata": {},
 "nbformat": 4,
 "nbformat_minor": 5
}
